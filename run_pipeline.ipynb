{
 "cells": [
  {
   "cell_type": "code",
   "execution_count": 2,
   "id": "544769b4-fa02-414a-81b3-d80af676bb38",
   "metadata": {},
   "outputs": [
    {
     "name": "stderr",
     "output_type": "stream",
     "text": [
      "C:\\Users\\wma22\\anaconda3\\envs\\gender-pip2\\lib\\site-packages\\tqdm\\auto.py:22: TqdmWarning: IProgress not found. Please update jupyter and ipywidgets. See https://ipywidgets.readthedocs.io/en/stable/user_install.html\n",
      "  from .autonotebook import tqdm as notebook_tqdm\n"
     ]
    }
   ],
   "source": [
    "import spacy\n",
    "from gender_spacy import gender_spacy as gs"
   ]
  },
  {
   "cell_type": "code",
   "execution_count": 32,
   "id": "b9c9d355-3e4e-4aa2-bc4b-1eb52f69e0b7",
   "metadata": {},
   "outputs": [],
   "source": [
    "nlp = gs.GenderParser(\"en_core_web_sm\")"
   ]
  },
  {
   "cell_type": "code",
   "execution_count": null,
   "id": "ac3b6856-6ca4-4a38-83b9-34762b722853",
   "metadata": {},
   "outputs": [],
   "source": [
    "text = \"\"\"\n",
    "During the year Miss Densmore arranged in final order 245 songs to accompany her manuscript on Seminole music and revised portions of the text to conform to this arrangement of the material. \n",
    "\n",
    "In December 1941 Miss Densmore was appointed as consultant at The National Archives for work in connection with the Smithsonian Densmore collection of sound recordings of American Indian music, and duiing the ensuing months she was engaged in planning the organization of the collection.\n",
    "\"\"\"\n",
    "doc = nlp.process_doc(text)"
   ]
  },
  {
   "cell_type": "code",
   "execution_count": null,
   "id": "93027df8-10e6-4cee-957c-ef57dbf52cba",
   "metadata": {},
   "outputs": [],
   "source": [
    "doc = nlp.coref_resolution()"
   ]
  },
  {
   "cell_type": "code",
   "execution_count": null,
   "id": "9e6d75bd-f4de-4e14-8344-f32bcfb02723",
   "metadata": {},
   "outputs": [],
   "source": [
    "nlp.visualize()"
   ]
  },
  {
   "cell_type": "code",
   "execution_count": null,
   "id": "3d03a069-1586-4759-8898-239686964137",
   "metadata": {},
   "outputs": [],
   "source": []
  },
  {
   "cell_type": "code",
   "execution_count": null,
   "id": "35a7445a-4b09-4515-a867-d1244ad1b744",
   "metadata": {},
   "outputs": [],
   "source": []
  }
 ],
 "metadata": {
  "kernelspec": {
   "display_name": "Python 3 (ipykernel)",
   "language": "python",
   "name": "python3"
  },
  "language_info": {
   "codemirror_mode": {
    "name": "ipython",
    "version": 3
   },
   "file_extension": ".py",
   "mimetype": "text/x-python",
   "name": "python",
   "nbconvert_exporter": "python",
   "pygments_lexer": "ipython3",
   "version": "3.9.16"
  },
  "vscode": {
   "interpreter": {
    "hash": "7317c8b582fa3f3b29a5667d86eb3f9d98fdd7d31c18f1e3cb39d32cfe38bb2f"
   }
  }
 },
 "nbformat": 4,
 "nbformat_minor": 5
}
