{
 "cells": [
  {
   "cell_type": "code",
   "execution_count": 1,
   "id": "544769b4-fa02-414a-81b3-d80af676bb38",
   "metadata": {},
   "outputs": [
    {
     "name": "stderr",
     "output_type": "stream",
     "text": [
      "C:\\Users\\wma22\\anaconda3\\envs\\neural\\lib\\site-packages\\tqdm\\auto.py:22: TqdmWarning: IProgress not found. Please update jupyter and ipywidgets. See https://ipywidgets.readthedocs.io/en/stable/user_install.html\n",
      "  from .autonotebook import tqdm as notebook_tqdm\n"
     ]
    }
   ],
   "source": [
    "import spacy\n",
    "from gender_spacy import gender_spacy"
   ]
  },
  {
   "cell_type": "code",
   "execution_count": 2,
   "id": "b9c9d355-3e4e-4aa2-bc4b-1eb52f69e0b7",
   "metadata": {},
   "outputs": [],
   "source": [
    "nlp = gender_spacy.GenderParser(\"en_core_web_sm\")"
   ]
  },
  {
   "cell_type": "code",
   "execution_count": 10,
   "id": "ac3b6856-6ca4-4a38-83b9-34762b722853",
   "metadata": {},
   "outputs": [
    {
     "name": "stdout",
     "output_type": "stream",
     "text": [
      "{'coref_head_clusters_1': [Potter, He], 'coref_head_clusters_2': [friend, She], 'coref_clusters_1': [Harry James Potter was, He had], 'coref_clusters_2': [a friend named Hermione., She was], 'ruler': [He, She]}\n"
     ]
    }
   ],
   "source": [
    "text = \"\"\"Harry James Potter was the main character in the book. He had a friend named Hermione. She was a wizard too.\"\"\"\n",
    "doc = nlp.process_doc(text)"
   ]
  },
  {
   "cell_type": "code",
   "execution_count": 11,
   "id": "93027df8-10e6-4cee-957c-ef57dbf52cba",
   "metadata": {},
   "outputs": [
    {
     "name": "stdout",
     "output_type": "stream",
     "text": [
      "Harry PERSON_MALE_COREF\n",
      "James PERSON_MALE_COREF\n",
      "Potter PERSON_MALE_COREF\n",
      "Hermione PERSON_FEMALE_COREF\n",
      "Harry James\n"
     ]
    }
   ],
   "source": [
    "doc = nlp.coref_resolution()"
   ]
  },
  {
   "cell_type": "code",
   "execution_count": 17,
   "id": "8a2c50ff-486d-45d7-902d-c174cda15764",
   "metadata": {},
   "outputs": [
    {
     "data": {
      "text/plain": [
       "[He, She, Harry James Potter, Hermione, Potter, Hermione, Harry James]"
      ]
     },
     "execution_count": 17,
     "metadata": {},
     "output_type": "execute_result"
    }
   ],
   "source": [
    "original_spans = list(doc.spans[\"ruler\"])\n",
    "for idx, span in enumerate(doc.spans[\"ruler\"]):\n",
    "    # print(span, span.start)\n",
    "    if idx < len(doc.spans[\"ruler\"])-1:\n",
    "        merge_num = 0\n",
    "        if span.start+1 == original_spans[idx+1].start:\n",
    "            merge_num = 2\n",
    "            if idx < len(doc.spans[\"ruler\"])-2:\n",
    "                if span.start+2 == original_spans[idx+2].start:\n",
    "                    merge_num = 3\n",
    "            else:\n",
    "                merge_num = 2\n",
    "            print(span, doc.spans[\"ruler\"][idx+1])\n",
    "            new_span = Span(doc, span.start, span.start+merge_num, label=f\"PERSON_{gender.upper()}_COREF\")\n",
    "            original_spans.remove(span)\n",
    "            original_spans.remove(doc.spans[\"ruler\"][idx+1])\n",
    "            original_spans.append(new_span)\n",
    "original_spans"
   ]
  },
  {
   "cell_type": "code",
   "execution_count": 13,
   "id": "9e6d75bd-f4de-4e14-8344-f32bcfb02723",
   "metadata": {},
   "outputs": [
    {
     "data": {
      "text/html": [
       "<span class=\"tex2jax_ignore\"><div class=\"spans\" style=\"line-height: 2.5; direction: ltr\">\n",
       "<span style=\"font-weight: bold; display: inline-block; position: relative; height: 77px;\">\n",
       "    Harry\n",
       "    \n",
       "<span style=\"background: #ddd; top: 40px; height: 4px; left: -1px; width: calc(100% + 2px); position: absolute;\">\n",
       "</span>\n",
       "\n",
       "<span style=\"background: #b6b7ff; top: 57px; height: 4px; left: -1px; width: calc(100% + 2px); position: absolute;\">\n",
       "</span>\n",
       "\n",
       "    \n",
       "<span style=\"background: #ddd; top: 40px; height: 4px; border-top-left-radius: 3px; border-bottom-left-radius: 3px; left: -1px; width: calc(100% + 2px); position: absolute;\">\n",
       "    <span style=\"background: #ddd; z-index: 10; color: #000; top: -0.5em; padding: 2px 3px; position: absolute; font-size: 0.6em; font-weight: bold; line-height: 1; border-radius: 3px\">\n",
       "        PERSON_UNKNOWN\n",
       "    </span>\n",
       "</span>\n",
       "\n",
       "\n",
       "<span style=\"background: #b6b7ff; top: 57px; height: 4px; border-top-left-radius: 3px; border-bottom-left-radius: 3px; left: -1px; width: calc(100% + 2px); position: absolute;\">\n",
       "    <span style=\"background: #b6b7ff; z-index: 10; color: #000; top: -0.5em; padding: 2px 3px; position: absolute; font-size: 0.6em; font-weight: bold; line-height: 1; border-radius: 3px\">\n",
       "        PERSON_MALE_COREF\n",
       "    </span>\n",
       "</span>\n",
       "\n",
       "\n",
       "</span>\n",
       "\n",
       "<span style=\"font-weight: bold; display: inline-block; position: relative; height: 77px;\">\n",
       "    James\n",
       "    \n",
       "<span style=\"background: #ddd; top: 40px; height: 4px; left: -1px; width: calc(100% + 2px); position: absolute;\">\n",
       "</span>\n",
       "\n",
       "<span style=\"background: #b6b7ff; top: 57px; height: 4px; left: -1px; width: calc(100% + 2px); position: absolute;\">\n",
       "</span>\n",
       "\n",
       "    \n",
       "</span>\n",
       "\n",
       "<span style=\"font-weight: bold; display: inline-block; position: relative; height: 77px;\">\n",
       "    Potter\n",
       "    \n",
       "<span style=\"background: #ddd; top: 40px; height: 4px; left: -1px; width: calc(100% + 2px); position: absolute;\">\n",
       "</span>\n",
       "\n",
       "<span style=\"background: #b6b7ff; top: 57px; height: 4px; left: -1px; width: calc(100% + 2px); position: absolute;\">\n",
       "</span>\n",
       "\n",
       "    \n",
       "<span style=\"background: #b6b7ff; top: 57px; height: 4px; border-top-left-radius: 3px; border-bottom-left-radius: 3px; left: -1px; width: calc(100% + 2px); position: absolute;\">\n",
       "    <span style=\"background: #b6b7ff; z-index: 10; color: #000; top: -0.5em; padding: 2px 3px; position: absolute; font-size: 0.6em; font-weight: bold; line-height: 1; border-radius: 3px\">\n",
       "        PERSON_MALE_COREF\n",
       "    </span>\n",
       "</span>\n",
       "\n",
       "\n",
       "</span>\n",
       "was the main character in the book . \n",
       "<span style=\"font-weight: bold; display: inline-block; position: relative; height: 60px;\">\n",
       "    He\n",
       "    \n",
       "<span style=\"background: #b6b7ff; top: 40px; height: 4px; left: -1px; width: calc(100% + 2px); position: absolute;\">\n",
       "</span>\n",
       "\n",
       "    \n",
       "<span style=\"background: #b6b7ff; top: 40px; height: 4px; border-top-left-radius: 3px; border-bottom-left-radius: 3px; left: -1px; width: calc(100% + 2px); position: absolute;\">\n",
       "    <span style=\"background: #b6b7ff; z-index: 10; color: #000; top: -0.5em; padding: 2px 3px; position: absolute; font-size: 0.6em; font-weight: bold; line-height: 1; border-radius: 3px\">\n",
       "        MALE_PRONOUN\n",
       "    </span>\n",
       "</span>\n",
       "\n",
       "\n",
       "</span>\n",
       "had a friend named \n",
       "<span style=\"font-weight: bold; display: inline-block; position: relative; height: 77px;\">\n",
       "    Hermione\n",
       "    \n",
       "<span style=\"background: #b6fff7; top: 40px; height: 4px; left: -1px; width: calc(100% + 2px); position: absolute;\">\n",
       "</span>\n",
       "\n",
       "<span style=\"background: #ddd; top: 57px; height: 4px; left: -1px; width: calc(100% + 2px); position: absolute;\">\n",
       "</span>\n",
       "\n",
       "    \n",
       "<span style=\"background: #b6fff7; top: 40px; height: 4px; border-top-left-radius: 3px; border-bottom-left-radius: 3px; left: -1px; width: calc(100% + 2px); position: absolute;\">\n",
       "    <span style=\"background: #b6fff7; z-index: 10; color: #000; top: -0.5em; padding: 2px 3px; position: absolute; font-size: 0.6em; font-weight: bold; line-height: 1; border-radius: 3px\">\n",
       "        PERSON_FEMALE_COREF\n",
       "    </span>\n",
       "</span>\n",
       "\n",
       "\n",
       "<span style=\"background: #ddd; top: 57px; height: 4px; border-top-left-radius: 3px; border-bottom-left-radius: 3px; left: -1px; width: calc(100% + 2px); position: absolute;\">\n",
       "    <span style=\"background: #ddd; z-index: 10; color: #000; top: -0.5em; padding: 2px 3px; position: absolute; font-size: 0.6em; font-weight: bold; line-height: 1; border-radius: 3px\">\n",
       "        PERSON_UNKNOWN\n",
       "    </span>\n",
       "</span>\n",
       "\n",
       "\n",
       "</span>\n",
       ". \n",
       "<span style=\"font-weight: bold; display: inline-block; position: relative; height: 60px;\">\n",
       "    She\n",
       "    \n",
       "<span style=\"background: #b6fff7; top: 40px; height: 4px; left: -1px; width: calc(100% + 2px); position: absolute;\">\n",
       "</span>\n",
       "\n",
       "    \n",
       "<span style=\"background: #b6fff7; top: 40px; height: 4px; border-top-left-radius: 3px; border-bottom-left-radius: 3px; left: -1px; width: calc(100% + 2px); position: absolute;\">\n",
       "    <span style=\"background: #b6fff7; z-index: 10; color: #000; top: -0.5em; padding: 2px 3px; position: absolute; font-size: 0.6em; font-weight: bold; line-height: 1; border-radius: 3px\">\n",
       "        FEMALE_PRONOUN\n",
       "    </span>\n",
       "</span>\n",
       "\n",
       "\n",
       "</span>\n",
       "was a wizard too . </div></span>"
      ],
      "text/plain": [
       "<IPython.core.display.HTML object>"
      ]
     },
     "metadata": {},
     "output_type": "display_data"
    }
   ],
   "source": [
    "nlp.visualize()"
   ]
  },
  {
   "cell_type": "code",
   "execution_count": 7,
   "id": "f77da9c8-b6d4-4a64-860a-fc802eaeda2e",
   "metadata": {},
   "outputs": [
    {
     "name": "stdout",
     "output_type": "stream",
     "text": [
      "Harry Potter PERSON\n",
      "Hermione PERSON\n"
     ]
    }
   ],
   "source": [
    "for ent in doc.ents:\n",
    "    print(ent.text, ent.label_)"
   ]
  },
  {
   "cell_type": "code",
   "execution_count": 8,
   "id": "7e556db4-f5ed-4e4e-ae34-750d2a21654a",
   "metadata": {},
   "outputs": [],
   "source": [
    "# import spacy\n",
    "# nlp = spacy.load(\"en_coreference_web_trf\")\n",
    "# doc = nlp(\"The cats were startled by the dog as it growled at them.\") \n",
    "# print(doc.spans)"
   ]
  },
  {
   "cell_type": "code",
   "execution_count": 9,
   "id": "37fc7bd4-7d07-41fd-ab5a-6ae6459675ea",
   "metadata": {},
   "outputs": [
    {
     "ename": "AttributeError",
     "evalue": "'GenderParser' object has no attribute 'pipeline'",
     "output_type": "error",
     "traceback": [
      "\u001b[1;31m---------------------------------------------------------------------------\u001b[0m",
      "\u001b[1;31mAttributeError\u001b[0m                            Traceback (most recent call last)",
      "Cell \u001b[1;32mIn[9], line 1\u001b[0m\n\u001b[1;32m----> 1\u001b[0m \u001b[43mnlp\u001b[49m\u001b[38;5;241;43m.\u001b[39;49m\u001b[43mpipeline\u001b[49m\n",
      "\u001b[1;31mAttributeError\u001b[0m: 'GenderParser' object has no attribute 'pipeline'"
     ]
    }
   ],
   "source": [
    "nlp.pipeline"
   ]
  },
  {
   "cell_type": "code",
   "execution_count": null,
   "id": "d498fda7-f728-4ac9-be5f-67e961476d12",
   "metadata": {},
   "outputs": [],
   "source": [
    "# text = \"\"\"Harry Potter was the main character in the book. He had a friend named Hermione. She was a wizard too.\"\"\"\n",
    "\n",
    "# nlp = spacy.load(\"en_core_web_sm\")\n",
    "# nlp_coref = spacy.load(\"en_coreference_web_trf\")\n",
    "\n",
    "# # use replace_listeners for the coref components\n",
    "# nlp_coref.replace_listeners(\"transformer\", \"coref\", [\"model.tok2vec\"])\n",
    "# nlp_coref.replace_listeners(\"transformer\", \"span_resolver\", [\"model.tok2vec\"])\n",
    "\n",
    "# # we won't copy over the span cleaner\n",
    "# nlp.add_pipe(\"coref\", source=nlp_coref)\n",
    "# nlp.add_pipe(\"span_resolver\", source=nlp_coref)\n",
    "\n",
    "# doc = nlp(text)"
   ]
  },
  {
   "cell_type": "code",
   "execution_count": null,
   "id": "7bc4f50a-584a-4ccd-b34e-9360d06b6a6b",
   "metadata": {},
   "outputs": [],
   "source": [
    "from spacy.tokens import Span"
   ]
  },
  {
   "cell_type": "code",
   "execution_count": null,
   "id": "a8df39ff-edbd-4f4a-8dc4-d89d9d9a428c",
   "metadata": {},
   "outputs": [],
   "source": [
    "# def parse_gender(token, pronoun_set, gender):\n",
    "#     if token.text.lower() not in pronoun_set:\n",
    "#         span = doc.char_span(token.start_char, token.end_char, label=gender.upper())\n",
    "#         span = Span(doc, span.start, span.end, label=f\"PERSON_{gender.upper()}_COREF\")\n",
    "#         return span\n",
    "\n",
    "# pronouns = {\"female\": [\"she\", \"her\", \"hers\", \"herself\"], \"male\": [\"he\", \"him\", \"his\", \"himself\"]}\n",
    "\n",
    "# for key, cluster in doc.spans.items():\n",
    "#     if \"head\" in key:\n",
    "#         head_tokens = [token.text.lower() for token in cluster]\n",
    "#         for gender, pronoun_set in pronouns.items():\n",
    "#             if any(pronoun in head_tokens for pronoun in pronoun_set):\n",
    "#                 for token in cluster:\n",
    "#                     gender_res = parse_gender(token, female_pronouns, gender.upper())\n",
    "#                     if gender_res != None:\n",
    "#                         num = key.split(\"_\")[-1]\n",
    "#                         res_cluster = doc.spans[f\"coref_clusters_{num}\"]\n",
    "#                         for token_set in res_cluster:\n",
    "#                             # print(token_set)\n",
    "#                             for token in token_set:\n",
    "#                                 # print(token, token.pos_)\n",
    "                                \n",
    "#                                 if token.pos_ == \"PROPN\":\n",
    "#                                     span = doc.char_span(token.idx, token.idx+len(token.text), label=gender.upper())\n",
    "#                                     span = Span(doc, span.start, span.end, label=f\"PERSON_{gender.upper()}_COREF\")\n",
    "#                                     print(span, span.label_)\n",
    "#                         # print(gender_res, gender_res.label_)"
   ]
  },
  {
   "cell_type": "code",
   "execution_count": null,
   "id": "1bed5140-73da-4585-8c65-7a5598ddaa33",
   "metadata": {},
   "outputs": [],
   "source": [
    "doc.spans"
   ]
  },
  {
   "cell_type": "code",
   "execution_count": null,
   "id": "3d03a069-1586-4759-8898-239686964137",
   "metadata": {},
   "outputs": [],
   "source": []
  }
 ],
 "metadata": {
  "kernelspec": {
   "display_name": "Python 3 (ipykernel)",
   "language": "python",
   "name": "python3"
  },
  "language_info": {
   "codemirror_mode": {
    "name": "ipython",
    "version": 3
   },
   "file_extension": ".py",
   "mimetype": "text/x-python",
   "name": "python",
   "nbconvert_exporter": "python",
   "pygments_lexer": "ipython3",
   "version": "3.9.16"
  }
 },
 "nbformat": 4,
 "nbformat_minor": 5
}
