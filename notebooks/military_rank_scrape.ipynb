{
 "cells": [
  {
   "cell_type": "code",
   "execution_count": 1,
   "id": "28623c8e-6f40-4dab-933b-2cea139892a9",
   "metadata": {},
   "outputs": [],
   "source": [
    "import pandas as pd"
   ]
  },
  {
   "cell_type": "code",
   "execution_count": 29,
   "id": "55c85705-36a5-4bc9-bc36-19f4b1b97874",
   "metadata": {},
   "outputs": [
    {
     "data": {
      "text/plain": [
       "5"
      ]
     },
     "execution_count": 29,
     "metadata": {},
     "output_type": "execute_result"
    }
   ],
   "source": [
    "dfs = pd.read_html(\"https://www.va.gov/vetsinworkplace/docs/em_rank.html\")\n",
    "len(dfs)"
   ]
  },
  {
   "cell_type": "code",
   "execution_count": 25,
   "id": "ddcc5f14-b215-4c2f-a6ae-5022c0759188",
   "metadata": {},
   "outputs": [
    {
     "data": {
      "text/plain": [
       "328"
      ]
     },
     "execution_count": 25,
     "metadata": {},
     "output_type": "execute_result"
    }
   ],
   "source": [
    "titles = []\n",
    "for df in dfs[1:]:\n",
    "    ts = df.Title.tolist()\n",
    "    abvs = df.Abbreviation.tolist()\n",
    "    for t, a in zip(ts, abvs):\n",
    "        if \"/\" in t:\n",
    "            for item in t.split(\"/\"):\n",
    "                titles.append(item.strip())\n",
    "        else:\n",
    "            titles.append(t)\n",
    "        titles.append(a)\n",
    "        titles.append(a.title())\n",
    "len(titles)"
   ]
  },
  {
   "cell_type": "code",
   "execution_count": 26,
   "id": "98ee97d8-a96b-4a5a-8471-708e571d0a34",
   "metadata": {},
   "outputs": [
    {
     "data": {
      "text/plain": [
       "240"
      ]
     },
     "execution_count": 26,
     "metadata": {},
     "output_type": "execute_result"
    }
   ],
   "source": [
    "titles = list(set(titles))\n",
    "titles.sort()\n",
    "len(titles)"
   ]
  },
  {
   "cell_type": "code",
   "execution_count": 28,
   "id": "acbe3435-8168-4886-9ab5-068835ae80ce",
   "metadata": {},
   "outputs": [
    {
     "name": "stdout",
     "output_type": "stream",
     "text": [
      "['1LT', '1Lt', '1SG', '1Sg', '1St Lt', '1Stlt', '1Stsgt', '1st Lt', '1stLt', '1stSgt', '2D Lt', '2LT', '2Lt', '2Ndlt', '2d Lt', '2ndLt', 'A1C', 'AB', 'ADM', 'Ab', 'Adm', 'Admiral Chief of Naval Operations', 'Airman', 'Airman Basic', 'Airman First Class', 'Amn', 'BG', 'BGen', 'Bg', 'Bgen', 'Brig Gen', 'Brigadier General', 'CAPT', 'CCM', 'CDR', 'CMSAF', 'CMSgt', 'COL', 'CPL', 'CPO', 'CPT', 'CSM', 'CW2', 'CW3', 'CW4', 'CW5', 'CWO2', 'CWO3', 'CWO4', 'CWO5', 'Capt', 'Captain', 'Ccm', 'Cdr', 'Chief Master Sergeant', 'Chief Master Sergeant of the Air Force', 'Chief Petty Officer', 'Chief Warrant Officer 2', 'Chief Warrant Officer 3', 'Chief Warrant Officer 4', 'Chief Warrant Officer 5', 'Cmsaf', 'Cmsgt', 'Col', 'Colonel', 'Command Chief Master Sergeant', 'Command Master Chief Petty Officer', 'Command Sergeant Major', 'Commandant of the Coast Guard', 'Commander', 'Corporal', 'Cpl', 'Cpo', 'Cpt', 'Csm', 'Cw2', 'Cw3', 'Cw4', 'Cw5', 'Cwo2', 'Cwo3', 'Cwo4', 'Cwo5', 'ENS', 'Ens', 'Ensign', 'FADM', 'FLTCM', 'FORCM', 'Fadm', 'First Lieutenant', 'First Sergeant', 'Fleet Admiral', 'Fleet Master Chief Petty Officer', 'Fltcm', 'Force Master Chief Petty Officer', 'Forcm', 'GA', 'GEN', 'GOAF', 'Ga', 'Gen', 'General', 'General Air Force Chief of Staff', 'General of the Air Force', 'General of the Army', 'Goaf', 'Gunnery Sergeant', 'GySgt', 'Gysgt', 'LCDR', 'LCpl', 'LT', 'LTC', 'LTG', 'LTJG', 'Lance Corporal', 'Lcdr', 'Lcpl', 'Lieutenant', 'Lieutenant Colonel', 'Lieutenant Commander', 'Lieutenant General', 'Lieutenant, Junior Grade', 'Lt', 'Lt Col', 'Lt Gen', 'LtCol', 'LtGen', 'Ltc', 'Ltcol', 'Ltg', 'Ltgen', 'Ltjg', 'MAJ', 'MCPO', 'MCPOC', 'MCPON', 'MG', 'MGySgt', 'MPCOCG', 'MSG', 'MSgt', 'Maj', 'Maj Gen', 'MajGen', 'Majgen', 'Major', 'Major General', 'Master Chief Petty Officer', 'Master Chief Petty Officer of the Coast Guard', 'Master Chief Petty Officer of the Navy', 'Master Gunnery Sergeant', 'Master Sergeant', 'Mcpo', 'Mcpoc', 'Mcpon', 'Mg', 'Mgysgt', 'Mpcocg', 'Msg', 'Msgt', 'PFC', 'PO1', 'PO2', 'PO3', 'PV2', 'PVT', 'Petty Officer 1st Class', 'Petty Officer 2nd Class', 'Petty Officer 3rd Class', 'Pfc', 'Po1', 'Po2', 'Po3', 'Private', 'Private 2', 'Private First Class', 'Pv2', 'Pvt', 'RADM', 'RDML', 'Radm', 'Rdml', 'Rear Admiral (lower half)', 'Rear Admiral (upper half)', 'SA', 'SCPO', 'SFC', 'SGM', 'SGT', 'SMA', 'SMSgt', 'SN', 'SPC', 'SR', 'SSG', 'SSgt', 'Sa', 'Scpo', 'Seaman', 'Seaman Apprentice', 'Seaman Recruit', 'Second Lieutenant', 'Senior Airman or Sergeant', 'Senior Chief Petty Officer', 'Senior Master Sergeant', 'Sergeant', 'Sergeant First Class', 'Sergeant Major', 'Sergeant Major of the Army', 'Sergeant Major of the Marine Corps', 'Sfc', 'Sgm', 'Sgt', 'SgtMaj', 'SgtMajMarCor', 'Sgtmaj', 'Sgtmajmarcor', 'Sma', 'Smsgt', 'Sn', 'Spc', 'Specialist', 'Sr', 'SrA', 'Sra', 'Ssg', 'Ssgt', 'Staff Sergeant', 'TSgt', 'Technical Sergeant', 'Tsgt', 'VADM', 'Vadm', 'Vice Admiral', 'WO1', 'Warrant Officer', 'Warrant Officer 1', 'Wo1']\n"
     ]
    }
   ],
   "source": [
    "print(titles)"
   ]
  },
  {
   "cell_type": "code",
   "execution_count": null,
   "id": "fbcf343f-9004-43ff-af21-03fe90c84da2",
   "metadata": {},
   "outputs": [],
   "source": []
  },
  {
   "cell_type": "code",
   "execution_count": null,
   "id": "d8dca3fd-504c-478c-93cb-f1da87db3234",
   "metadata": {},
   "outputs": [],
   "source": []
  }
 ],
 "metadata": {
  "kernelspec": {
   "display_name": "Python 3 (ipykernel)",
   "language": "python",
   "name": "python3"
  },
  "language_info": {
   "codemirror_mode": {
    "name": "ipython",
    "version": 3
   },
   "file_extension": ".py",
   "mimetype": "text/x-python",
   "name": "python",
   "nbconvert_exporter": "python",
   "pygments_lexer": "ipython3",
   "version": "3.9.15"
  }
 },
 "nbformat": 4,
 "nbformat_minor": 5
}
